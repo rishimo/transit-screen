{
 "cells": [
  {
   "cell_type": "code",
   "execution_count": 70,
   "metadata": {},
   "outputs": [
    {
     "name": "stdout",
     "output_type": "stream",
     "text": [
      "   stopnames direction           destination arrivalTime timeToArrival  \\\n",
      "0    Stanyan   Inbound     Caltrain/Ballpark    11:06 PM         04:23   \n",
      "1    Stanyan   Inbound     Caltrain/Ballpark    11:22 PM         20:45   \n",
      "2    Stanyan   Inbound     Caltrain/Ballpark    11:29 PM         27:18   \n",
      "3    Stanyan   Inbound   Townsend and 5th St    11:55 PM         54:06   \n",
      "4    Stanyan   Inbound   Townsend and 5th St    12:15 AM         74:10   \n",
      "5    Stanyan   Inbound  Fourth St + Townsend    12:34 AM         92:13   \n",
      "6    Stanyan   Inbound  Fourth St + Townsend    01:04 AM        122:13   \n",
      "7    Stanyan  Outbound           Ocean Beach    11:10 PM         08:45   \n",
      "8    Stanyan  Outbound           Ocean Beach    11:30 PM         28:29   \n",
      "9    Stanyan  Outbound           Ocean Beach    11:50 PM         48:29   \n",
      "10   Stanyan  Outbound           Ocean Beach    12:34 AM         92:46   \n",
      "11   Stanyan  Outbound           Ocean Beach    01:04 AM        122:46   \n",
      "12   Stanyan  Outbound           Ocean Beach    02:04 AM        182:46   \n",
      "13    Folsom   Inbound   Embarcadero Station    11:09 PM         07:43   \n",
      "14    Folsom   Inbound     Caltrain/Ballpark    11:10 PM         08:42   \n",
      "15    Folsom   Inbound     Caltrain/Ballpark    11:25 PM         23:50   \n",
      "16    Folsom   Inbound     Caltrain/Ballpark    11:42 PM         40:13   \n",
      "17    Folsom   Inbound   Embarcadero Station    12:11 AM         69:56   \n",
      "18    Folsom   Inbound   Embarcadero Station    12:18 AM         77:06   \n",
      "19    Folsom  Outbound           Ocean Beach    11:11 PM         09:19   \n",
      "20    Folsom  Outbound           Ocean Beach    11:31 PM         29:19   \n",
      "21    Folsom  Outbound           Ocean Beach    11:51 PM         49:19   \n",
      "\n",
      "    stopcode  \n",
      "0      13915  \n",
      "1      13915  \n",
      "2      13915  \n",
      "3      13915  \n",
      "4      13915  \n",
      "5      13915  \n",
      "6      13915  \n",
      "7      13914  \n",
      "8      13914  \n",
      "9      13914  \n",
      "10     13914  \n",
      "11     13914  \n",
      "12     13914  \n",
      "13     14509  \n",
      "14     14509  \n",
      "15     14509  \n",
      "16     14509  \n",
      "17     14509  \n",
      "18     14509  \n",
      "19     14510  \n",
      "20     14510  \n",
      "21     14510  \n"
     ]
    }
   ],
   "source": [
    "import requests\n",
    "from dotenv import load_dotenv\n",
    "import os\n",
    "import json\n",
    "import pandas as pd\n",
    "from datetime import datetime\n",
    "from datetime import timezone\n",
    "from dateutil import tz\n",
    "\n",
    "# function to load secrets\n",
    "def secretFunc():\n",
    "\tload_dotenv()\n",
    "\tglobal TRANSIT_URL\n",
    "\tglobal TRANSIT_API_KEY\n",
    "\tglobal STOPCODES\n",
    "\tglobal DIRECTIONS\n",
    "\tglobal OPERATORS\n",
    "\tglobal STOPNAMES\n",
    "\tglobal OPENWEATHER_API_KEY\n",
    "\tglobal LATITUDE\n",
    "\tglobal LONGITUDE\n",
    "\n",
    "\tTRANSIT_URL = 'http://api.511.org/transit/StopMonitoring/'\n",
    "\tTRANSIT_API_KEY = os.environ['TRANSIT_API_KEY']\n",
    "\tOPENWEATHER_API_KEY = os.environ['OPENWEATHER_API_KEY']\n",
    "\n",
    "\t# update STOPCODES, OPERATORS, DIRECTIONS, STOPNAMES to add add'l stops\n",
    "\n",
    "\tSTOPCODES = [13915, 13914, 14509, 14510]\n",
    "\tOPERATORS = ['SF','SF', 'SF', 'SF']\n",
    "\tDIRECTIONS = ['Inbound', 'Outbound', 'Inbound', 'Outbound']\n",
    "\tSTOPNAMES = ['Stanyan', 'Stanyan', 'Folsom', 'Folsom']\n",
    "\tLATITUDE = os.environ['LAT']\n",
    "\tLONGITUDE = os.environ['LONG']\n",
    "\n",
    "\treturn()\n",
    "\n",
    "# function to use 511org API to find next arrivals at each of the provided STOPCODES\n",
    "def getNextTransit():\n",
    "\tsecretFunc()\n",
    "\tarrivals = list()\n",
    "\tfor i, stop in enumerate(STOPCODES):\n",
    "\t\tr = requests.get(TRANSIT_URL, \n",
    "\t\t\t\t\t\t params = {'agency': OPERATORS[i], \n",
    "\t\t\t\t\t\t\t\t   'api_key': TRANSIT_API_KEY,\n",
    "\t\t\t\t\t\t\t\t   'stopcode': stop})\n",
    "\t\t\n",
    "\t\tcontent = json.loads(r.content)\n",
    "\n",
    "\t\tstopInfo = pd.DataFrame.from_records(content)\n",
    "\t\tstopInfo = stopInfo['ServiceDelivery']['StopMonitoringDelivery']['MonitoredStopVisit']\n",
    "\n",
    "\t\tfor arrival in stopInfo:\n",
    "\t\t\t# Get arrivalTime from JSON content\n",
    "\t\t\tarrivalTime = arrival['MonitoredVehicleJourney']['MonitoredCall']['ExpectedArrivalTime']\n",
    "\n",
    "\t\t\t# Convert arrivalTime into 12h Pacific time\n",
    "\t\t\tutc_datetime = datetime.fromisoformat(arrivalTime[:-1])\n",
    "\n",
    "\t\t\t# Define the timezones\n",
    "\t\t\tutc_tz = tz.gettz('UTC')\n",
    "\t\t\tpacific_tz = tz.gettz('America/Los_Angeles')\n",
    "\t\t\tcurrentTime = datetime.now(timezone.utc)\n",
    "\n",
    "\t\t\t# Set the UTC timezone for the datetime object\n",
    "\t\t\tutc_datetime = utc_datetime.replace(tzinfo = utc_tz)\n",
    "\n",
    "\t\t\t# Convert the datetime object to Pacific time\n",
    "\t\t\tpacific_datetime = utc_datetime.astimezone(pacific_tz)\n",
    "\n",
    "\t\t\t# Format the datetime object as a 12-hour time string\n",
    "\t\t\ttime_str = pacific_datetime.strftime('%I:%M %p')\n",
    "\t\t\t\n",
    "\t\t\t# Calculte timeToArrival\n",
    "\t\t\ttimeToArrival = pacific_datetime - currentTime\n",
    "\t\t\ttimeToArrival = divmod(timeToArrival.seconds, 60)\n",
    "\t\t\ttimeToArrival = f\"{str(timeToArrival[0]).rjust(2,'0')}:{str(timeToArrival[1]).rjust(2,'0')}\"\n",
    "\n",
    "\t\t\t# Get destination from JSON content\n",
    "\t\t\tdestination = arrival['MonitoredVehicleJourney']['MonitoredCall']['DestinationDisplay']\n",
    "\n",
    "\t\t\t# Append [code, direction, time]  to list\n",
    "\t\t\tarrivals.append([STOPNAMES[i], DIRECTIONS[i], destination, time_str, timeToArrival, stop])\n",
    "\n",
    "\t# Convert nested list to DataFrame\n",
    "\tarrivals = pd.DataFrame(arrivals, columns=['stopnames', 'direction', 'destination','arrivalTime', 'timeToArrival', 'stopcode'])\n",
    "\treturn(arrivals)\n",
    "\n",
    "\n",
    "\t''' \n",
    "\ttodo:\n",
    "\t\t- connect to RPLCD to print information\n",
    "\t\t- implement refreshment interval\n",
    "\t'''\n",
    "\n",
    "# main function\n",
    "if __name__ == '__main__':\n",
    "\ttransitArrivals = getNextTransit()\n",
    "\tprint(transitArrivals)"
   ]
  },
  {
   "cell_type": "code",
   "execution_count": 71,
   "metadata": {},
   "outputs": [
    {
     "data": {
      "text/plain": [
       "'11:06 PM'"
      ]
     },
     "execution_count": 71,
     "metadata": {},
     "output_type": "execute_result"
    }
   ],
   "source": [
    "test = transitArrivals.loc[0, 'arrivalTime':'timeToArrival']\n",
    "test.loc['arrivalTime']"
   ]
  },
  {
   "cell_type": "code",
   "execution_count": 72,
   "metadata": {},
   "outputs": [
    {
     "name": "stdout",
     "output_type": "stream",
     "text": [
      "11:06 PM 04:23\n",
      "11:22 PM 20:45\n"
     ]
    }
   ],
   "source": [
    "inbound1 = transitArrivals.loc[0, 'arrivalTime':'timeToArrival']\n",
    "inbound2 = transitArrivals.loc[1, 'arrivalTime':'timeToArrival']\n",
    "\n",
    "print(inbound1.loc['arrivalTime'], inbound1.loc['timeToArrival'] + '\\n' + inbound2.loc['arrivalTime'], inbound2.loc['timeToArrival'])"
   ]
  },
  {
   "cell_type": "code",
   "execution_count": 73,
   "metadata": {},
   "outputs": [
    {
     "name": "stdout",
     "output_type": "stream",
     "text": [
      " City: 11:06 PM \n",
      " Next: 11:22 PM\n"
     ]
    },
    {
     "data": {
      "text/plain": [
       "15"
      ]
     },
     "execution_count": 73,
     "metadata": {},
     "output_type": "execute_result"
    }
   ],
   "source": [
    "output1 = f\" City: {transitArrivals.loc[0, 'arrivalTime']}\"\n",
    "output2 = f\"Next: {transitArrivals.loc[1, 'arrivalTime']}\"\n",
    "\n",
    "print(output1, '\\n', output2)\n",
    "len(output1)"
   ]
  },
  {
   "cell_type": "code",
   "execution_count": 74,
   "metadata": {},
   "outputs": [
    {
     "name": "stdout",
     "output_type": "stream",
     "text": [
      "13\n",
      "14\n"
     ]
    }
   ],
   "source": [
    "print(len('Humidity: 89%'))\n",
    "print(len('Wind: 13.8 MPH'))"
   ]
  },
  {
   "cell_type": "code",
   "execution_count": 75,
   "metadata": {},
   "outputs": [
    {
     "data": {
      "text/html": [
       "<div>\n",
       "<style scoped>\n",
       "    .dataframe tbody tr th:only-of-type {\n",
       "        vertical-align: middle;\n",
       "    }\n",
       "\n",
       "    .dataframe tbody tr th {\n",
       "        vertical-align: top;\n",
       "    }\n",
       "\n",
       "    .dataframe thead th {\n",
       "        text-align: right;\n",
       "    }\n",
       "</style>\n",
       "<table border=\"1\" class=\"dataframe\">\n",
       "  <thead>\n",
       "    <tr style=\"text-align: right;\">\n",
       "      <th></th>\n",
       "      <th>stopnames</th>\n",
       "      <th>direction</th>\n",
       "      <th>destination</th>\n",
       "      <th>arrivalTime</th>\n",
       "      <th>timeToArrival</th>\n",
       "      <th>stopcode</th>\n",
       "    </tr>\n",
       "  </thead>\n",
       "  <tbody>\n",
       "    <tr>\n",
       "      <th>7</th>\n",
       "      <td>Stanyan</td>\n",
       "      <td>Outbound</td>\n",
       "      <td>Ocean Beach</td>\n",
       "      <td>11:10 PM</td>\n",
       "      <td>08:45</td>\n",
       "      <td>13914</td>\n",
       "    </tr>\n",
       "    <tr>\n",
       "      <th>8</th>\n",
       "      <td>Stanyan</td>\n",
       "      <td>Outbound</td>\n",
       "      <td>Ocean Beach</td>\n",
       "      <td>11:30 PM</td>\n",
       "      <td>28:29</td>\n",
       "      <td>13914</td>\n",
       "    </tr>\n",
       "    <tr>\n",
       "      <th>9</th>\n",
       "      <td>Stanyan</td>\n",
       "      <td>Outbound</td>\n",
       "      <td>Ocean Beach</td>\n",
       "      <td>11:50 PM</td>\n",
       "      <td>48:29</td>\n",
       "      <td>13914</td>\n",
       "    </tr>\n",
       "    <tr>\n",
       "      <th>10</th>\n",
       "      <td>Stanyan</td>\n",
       "      <td>Outbound</td>\n",
       "      <td>Ocean Beach</td>\n",
       "      <td>12:34 AM</td>\n",
       "      <td>92:46</td>\n",
       "      <td>13914</td>\n",
       "    </tr>\n",
       "    <tr>\n",
       "      <th>11</th>\n",
       "      <td>Stanyan</td>\n",
       "      <td>Outbound</td>\n",
       "      <td>Ocean Beach</td>\n",
       "      <td>01:04 AM</td>\n",
       "      <td>122:46</td>\n",
       "      <td>13914</td>\n",
       "    </tr>\n",
       "    <tr>\n",
       "      <th>12</th>\n",
       "      <td>Stanyan</td>\n",
       "      <td>Outbound</td>\n",
       "      <td>Ocean Beach</td>\n",
       "      <td>02:04 AM</td>\n",
       "      <td>182:46</td>\n",
       "      <td>13914</td>\n",
       "    </tr>\n",
       "    <tr>\n",
       "      <th>19</th>\n",
       "      <td>Folsom</td>\n",
       "      <td>Outbound</td>\n",
       "      <td>Ocean Beach</td>\n",
       "      <td>11:11 PM</td>\n",
       "      <td>09:19</td>\n",
       "      <td>14510</td>\n",
       "    </tr>\n",
       "    <tr>\n",
       "      <th>20</th>\n",
       "      <td>Folsom</td>\n",
       "      <td>Outbound</td>\n",
       "      <td>Ocean Beach</td>\n",
       "      <td>11:31 PM</td>\n",
       "      <td>29:19</td>\n",
       "      <td>14510</td>\n",
       "    </tr>\n",
       "    <tr>\n",
       "      <th>21</th>\n",
       "      <td>Folsom</td>\n",
       "      <td>Outbound</td>\n",
       "      <td>Ocean Beach</td>\n",
       "      <td>11:51 PM</td>\n",
       "      <td>49:19</td>\n",
       "      <td>14510</td>\n",
       "    </tr>\n",
       "  </tbody>\n",
       "</table>\n",
       "</div>"
      ],
      "text/plain": [
       "   stopnames direction  destination arrivalTime timeToArrival  stopcode\n",
       "7    Stanyan  Outbound  Ocean Beach    11:10 PM         08:45     13914\n",
       "8    Stanyan  Outbound  Ocean Beach    11:30 PM         28:29     13914\n",
       "9    Stanyan  Outbound  Ocean Beach    11:50 PM         48:29     13914\n",
       "10   Stanyan  Outbound  Ocean Beach    12:34 AM         92:46     13914\n",
       "11   Stanyan  Outbound  Ocean Beach    01:04 AM        122:46     13914\n",
       "12   Stanyan  Outbound  Ocean Beach    02:04 AM        182:46     13914\n",
       "19    Folsom  Outbound  Ocean Beach    11:11 PM         09:19     14510\n",
       "20    Folsom  Outbound  Ocean Beach    11:31 PM         29:19     14510\n",
       "21    Folsom  Outbound  Ocean Beach    11:51 PM         49:19     14510"
      ]
     },
     "execution_count": 75,
     "metadata": {},
     "output_type": "execute_result"
    }
   ],
   "source": [
    "transitArrivals[transitArrivals['destination'].str.contains('Ocean Beach')]"
   ]
  },
  {
   "cell_type": "code",
   "execution_count": 76,
   "metadata": {},
   "outputs": [],
   "source": [
    "WEATHER_URL = 'http://api.openweathermap.org/data/2.5/onecall' \n",
    "WEATHER_API_KEY = OPENWEATHER_API_KEY\n",
    "UNITS = 'imperial'\n",
    "secretFunc()\n",
    "\n",
    "response = requests.get(WEATHER_URL, params = {'lat': LATITUDE,\n",
    "\t\t\t   \t\t\t\t\t\t\t\t\t\t\t  'long': LONGITUDE,\n",
    "\t\t\t\t\t\t\t\t\t\t\t\t\t\t  'units': UNITS,\n",
    "\t\t\t\t\t\t\t\t\t\t\t\t\t\t  'appid': WEATHER_API_KEY})"
   ]
  },
  {
   "cell_type": "code",
   "execution_count": 77,
   "metadata": {},
   "outputs": [
    {
     "data": {
      "text/plain": [
       "{'cod': 401,\n",
       " 'message': 'Invalid API key. Please see https://openweathermap.org/faq#error401 for more info.'}"
      ]
     },
     "execution_count": 77,
     "metadata": {},
     "output_type": "execute_result"
    }
   ],
   "source": [
    "response.json()"
   ]
  },
  {
   "cell_type": "code",
   "execution_count": null,
   "metadata": {},
   "outputs": [],
   "source": []
  }
 ],
 "metadata": {
  "kernelspec": {
   "display_name": "base",
   "language": "python",
   "name": "python3"
  },
  "language_info": {
   "codemirror_mode": {
    "name": "ipython",
    "version": 3
   },
   "file_extension": ".py",
   "mimetype": "text/x-python",
   "name": "python",
   "nbconvert_exporter": "python",
   "pygments_lexer": "ipython3",
   "version": "3.11.3"
  },
  "orig_nbformat": 4
 },
 "nbformat": 4,
 "nbformat_minor": 2
}
