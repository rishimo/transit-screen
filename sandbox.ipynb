{
 "cells": [
  {
   "cell_type": "code",
   "execution_count": 43,
   "metadata": {},
   "outputs": [
    {
     "name": "stdout",
     "output_type": "stream",
     "text": [
      "   stopnames direction           destination arrivalTime timeToArrival  \\\n",
      "0    Stanyan   Inbound     Caltrain/Ballpark    09:53 PM         01:54   \n",
      "1    Stanyan   Inbound     Caltrain/Ballpark    10:06 PM         14:59   \n",
      "2    Stanyan   Inbound     Caltrain/Ballpark    10:22 PM         30:11   \n",
      "3    Stanyan   Inbound   Townsend and 5th St    11:55 PM        124:06   \n",
      "4    Stanyan   Inbound   Townsend and 5th St    12:15 AM        144:10   \n",
      "5    Stanyan   Inbound  Fourth St + Townsend    12:34 AM        162:13   \n",
      "6    Stanyan  Outbound           Ocean Beach    10:02 PM         10:15   \n",
      "7    Stanyan  Outbound           Ocean Beach    10:16 PM         24:23   \n",
      "8    Stanyan  Outbound           Ocean Beach    10:30 PM         38:29   \n",
      "9    Stanyan  Outbound           Ocean Beach    12:34 AM        162:46   \n",
      "10    Folsom   Inbound     Caltrain/Ballpark    09:57 PM         05:48   \n",
      "11    Folsom   Inbound   Embarcadero Station    09:59 PM         08:03   \n",
      "12    Folsom   Inbound     Caltrain/Ballpark    10:13 PM         21:12   \n",
      "13    Folsom   Inbound     Caltrain/Ballpark    10:26 PM         34:16   \n",
      "14    Folsom   Inbound   Embarcadero Station    11:05 PM         73:59   \n",
      "15    Folsom  Outbound           Ocean Beach    09:57 PM         05:13   \n",
      "16    Folsom  Outbound           Ocean Beach    10:11 PM         19:19   \n",
      "17    Folsom  Outbound           Ocean Beach    10:31 PM         39:19   \n",
      "\n",
      "    stopcode  \n",
      "0      13915  \n",
      "1      13915  \n",
      "2      13915  \n",
      "3      13915  \n",
      "4      13915  \n",
      "5      13915  \n",
      "6      13914  \n",
      "7      13914  \n",
      "8      13914  \n",
      "9      13914  \n",
      "10     14509  \n",
      "11     14509  \n",
      "12     14509  \n",
      "13     14509  \n",
      "14     14509  \n",
      "15     14510  \n",
      "16     14510  \n",
      "17     14510  \n"
     ]
    }
   ],
   "source": [
    "import requests\n",
    "from dotenv import load_dotenv\n",
    "import os\n",
    "import json\n",
    "import pandas as pd\n",
    "from datetime import datetime\n",
    "from datetime import timezone\n",
    "from dateutil import tz\n",
    "\n",
    "# function to load secrets\n",
    "def secretFunc():\n",
    "\tload_dotenv()\n",
    "\tglobal TRANSIT_URL\n",
    "\tglobal TRANSIT_API_KEY\n",
    "\tglobal STOPCODES\n",
    "\tglobal DIRECTIONS\n",
    "\tglobal OPERATORS\n",
    "\tglobal STOPNAMES\n",
    "\tglobal OPENWEATHER_API_KEY\n",
    "\n",
    "\tTRANSIT_URL = 'http://api.511.org/transit/StopMonitoring/'\n",
    "\tTRANSIT_API_KEY = os.environ['TRANSIT_API_KEY']\n",
    "\tOPENWEATHER_API_KEY = os.environ['OPENWEATHER_API_KEY']\n",
    "\n",
    "\t# update STOPCODES, OPERATORS, DIRECTIONS, STOPNAMES to add add'l stops\n",
    "\n",
    "\tSTOPCODES = [13915, 13914, 14509, 14510]\n",
    "\n",
    "\tOPERATORS = ['SF','SF', 'SF', 'SF']\n",
    "\n",
    "\tDIRECTIONS = ['Inbound', 'Outbound', 'Inbound', 'Outbound']\n",
    "\n",
    "\tSTOPNAMES = ['Stanyan', 'Stanyan', 'Folsom', 'Folsom']\n",
    "\n",
    "\treturn()\n",
    "\n",
    "# function to use 511org API to find next arrivals at each of the provided STOPCODES\n",
    "def getNextTransit():\n",
    "\tsecretFunc()\n",
    "\tarrivals = list()\n",
    "\tfor i, stop in enumerate(STOPCODES):\n",
    "\t\tr = requests.get(TRANSIT_URL, \n",
    "\t\t\t\t\t\t params = {'agency': OPERATORS[i], \n",
    "\t\t\t\t\t\t\t\t   'api_key': TRANSIT_API_KEY,\n",
    "\t\t\t\t\t\t\t\t   'stopcode': stop})\n",
    "\t\t\n",
    "\t\tcontent = json.loads(r.content)\n",
    "\n",
    "\t\tstopInfo = pd.DataFrame.from_records(content)\n",
    "\t\tstopInfo = stopInfo['ServiceDelivery']['StopMonitoringDelivery']['MonitoredStopVisit']\n",
    "\n",
    "\t\tfor arrival in stopInfo:\n",
    "\t\t\t# Get arrivalTime from JSON content\n",
    "\t\t\tarrivalTime = arrival['MonitoredVehicleJourney']['MonitoredCall']['ExpectedArrivalTime']\n",
    "\n",
    "\t\t\t# Convert arrivalTime into 12h Pacific time\n",
    "\t\t\tutc_datetime = datetime.fromisoformat(arrivalTime[:-1])\n",
    "\n",
    "\t\t\t# Define the timezones\n",
    "\t\t\tutc_tz = tz.gettz('UTC')\n",
    "\t\t\tpacific_tz = tz.gettz('America/Los_Angeles')\n",
    "\t\t\tcurrentTime = datetime.now(timezone.utc)\n",
    "\n",
    "\t\t\t# Set the UTC timezone for the datetime object\n",
    "\t\t\tutc_datetime = utc_datetime.replace(tzinfo = utc_tz)\n",
    "\n",
    "\t\t\t# Convert the datetime object to Pacific time\n",
    "\t\t\tpacific_datetime = utc_datetime.astimezone(pacific_tz)\n",
    "\n",
    "\t\t\t# Format the datetime object as a 12-hour time string\n",
    "\t\t\ttime_str = pacific_datetime.strftime('%I:%M %p')\n",
    "\t\t\t\n",
    "\t\t\t# Calculte timeToArrival\n",
    "\t\t\ttimeToArrival = pacific_datetime - currentTime\n",
    "\t\t\ttimeToArrival = divmod(timeToArrival.seconds, 60)\n",
    "\t\t\ttimeToArrival = f\"{str(timeToArrival[0]).rjust(2,'0')}:{str(timeToArrival[1]).rjust(2,'0')}\"\n",
    "\n",
    "\t\t\t# Get destination from JSON content\n",
    "\t\t\tdestination = arrival['MonitoredVehicleJourney']['MonitoredCall']['DestinationDisplay']\n",
    "\n",
    "\t\t\t# Append [code, direction, time]  to list\n",
    "\t\t\tarrivals.append([STOPNAMES[i], DIRECTIONS[i], destination, time_str, timeToArrival, stop])\n",
    "\n",
    "\t# Convert nested list to DataFrame\n",
    "\tarrivals = pd.DataFrame(arrivals, columns=['stopnames', 'direction', 'destination','arrivalTime', 'timeToArrival', 'stopcode'])\n",
    "\treturn(arrivals)\n",
    "\n",
    "\n",
    "\t''' \n",
    "\ttodo:\n",
    "\t\t- connect to RPLCD to print information\n",
    "\t\t- implement refreshment interval\n",
    "\t'''\n",
    "\n",
    "# main function\n",
    "if __name__ == '__main__':\n",
    "\ttransitArrivals = getNextTransit()\n",
    "\tprint(transitArrivals)"
   ]
  },
  {
   "cell_type": "code",
   "execution_count": 45,
   "metadata": {},
   "outputs": [
    {
     "data": {
      "text/plain": [
       "'09:53 PM'"
      ]
     },
     "execution_count": 45,
     "metadata": {},
     "output_type": "execute_result"
    }
   ],
   "source": [
    "test = transitArrivals.loc[0, 'arrivalTime':'timeToArrival']\n",
    "test.loc['arrivalTime']"
   ]
  },
  {
   "cell_type": "code",
   "execution_count": 46,
   "metadata": {},
   "outputs": [
    {
     "name": "stdout",
     "output_type": "stream",
     "text": [
      "09:53 PM 01:54\n",
      "10:06 PM 14:59\n"
     ]
    }
   ],
   "source": [
    "inbound1 = transitArrivals.loc[0, 'arrivalTime':'timeToArrival']\n",
    "inbound2 = transitArrivals.loc[1, 'arrivalTime':'timeToArrival']\n",
    "\n",
    "print(inbound1.loc['arrivalTime'], inbound1.loc['timeToArrival'] + '\\n' + inbound2.loc['arrivalTime'], inbound2.loc['timeToArrival'])"
   ]
  },
  {
   "cell_type": "code",
   "execution_count": 65,
   "metadata": {},
   "outputs": [
    {
     "name": "stdout",
     "output_type": "stream",
     "text": [
      " City: 09:53 PM \n",
      " Next: 10:06 PM\n"
     ]
    },
    {
     "data": {
      "text/plain": [
       "15"
      ]
     },
     "execution_count": 65,
     "metadata": {},
     "output_type": "execute_result"
    }
   ],
   "source": [
    "output1 = f\" City: {transitArrivals.loc[0, 'arrivalTime']}\"\n",
    "output2 = f\"Next: {transitArrivals.loc[1, 'arrivalTime']}\"\n",
    "\n",
    "print(output1, '\\n', output2)\n",
    "len(output1)"
   ]
  },
  {
   "cell_type": "code",
   "execution_count": 61,
   "metadata": {},
   "outputs": [
    {
     "name": "stdout",
     "output_type": "stream",
     "text": [
      "13\n",
      "14\n"
     ]
    }
   ],
   "source": [
    "print(len('Humidity: 89%'))\n",
    "print(len('Wind: 13.8 MPH'))"
   ]
  },
  {
   "cell_type": "code",
   "execution_count": 59,
   "metadata": {},
   "outputs": [
    {
     "data": {
      "text/html": [
       "<div>\n",
       "<style scoped>\n",
       "    .dataframe tbody tr th:only-of-type {\n",
       "        vertical-align: middle;\n",
       "    }\n",
       "\n",
       "    .dataframe tbody tr th {\n",
       "        vertical-align: top;\n",
       "    }\n",
       "\n",
       "    .dataframe thead th {\n",
       "        text-align: right;\n",
       "    }\n",
       "</style>\n",
       "<table border=\"1\" class=\"dataframe\">\n",
       "  <thead>\n",
       "    <tr style=\"text-align: right;\">\n",
       "      <th></th>\n",
       "      <th>stopnames</th>\n",
       "      <th>direction</th>\n",
       "      <th>destination</th>\n",
       "      <th>arrivalTime</th>\n",
       "      <th>timeToArrival</th>\n",
       "      <th>stopcode</th>\n",
       "    </tr>\n",
       "  </thead>\n",
       "  <tbody>\n",
       "    <tr>\n",
       "      <th>6</th>\n",
       "      <td>Stanyan</td>\n",
       "      <td>Outbound</td>\n",
       "      <td>Ocean Beach</td>\n",
       "      <td>10:02 PM</td>\n",
       "      <td>10:15</td>\n",
       "      <td>13914</td>\n",
       "    </tr>\n",
       "    <tr>\n",
       "      <th>7</th>\n",
       "      <td>Stanyan</td>\n",
       "      <td>Outbound</td>\n",
       "      <td>Ocean Beach</td>\n",
       "      <td>10:16 PM</td>\n",
       "      <td>24:23</td>\n",
       "      <td>13914</td>\n",
       "    </tr>\n",
       "    <tr>\n",
       "      <th>8</th>\n",
       "      <td>Stanyan</td>\n",
       "      <td>Outbound</td>\n",
       "      <td>Ocean Beach</td>\n",
       "      <td>10:30 PM</td>\n",
       "      <td>38:29</td>\n",
       "      <td>13914</td>\n",
       "    </tr>\n",
       "    <tr>\n",
       "      <th>9</th>\n",
       "      <td>Stanyan</td>\n",
       "      <td>Outbound</td>\n",
       "      <td>Ocean Beach</td>\n",
       "      <td>12:34 AM</td>\n",
       "      <td>162:46</td>\n",
       "      <td>13914</td>\n",
       "    </tr>\n",
       "    <tr>\n",
       "      <th>15</th>\n",
       "      <td>Folsom</td>\n",
       "      <td>Outbound</td>\n",
       "      <td>Ocean Beach</td>\n",
       "      <td>09:57 PM</td>\n",
       "      <td>05:13</td>\n",
       "      <td>14510</td>\n",
       "    </tr>\n",
       "    <tr>\n",
       "      <th>16</th>\n",
       "      <td>Folsom</td>\n",
       "      <td>Outbound</td>\n",
       "      <td>Ocean Beach</td>\n",
       "      <td>10:11 PM</td>\n",
       "      <td>19:19</td>\n",
       "      <td>14510</td>\n",
       "    </tr>\n",
       "    <tr>\n",
       "      <th>17</th>\n",
       "      <td>Folsom</td>\n",
       "      <td>Outbound</td>\n",
       "      <td>Ocean Beach</td>\n",
       "      <td>10:31 PM</td>\n",
       "      <td>39:19</td>\n",
       "      <td>14510</td>\n",
       "    </tr>\n",
       "  </tbody>\n",
       "</table>\n",
       "</div>"
      ],
      "text/plain": [
       "   stopnames direction  destination arrivalTime timeToArrival  stopcode\n",
       "6    Stanyan  Outbound  Ocean Beach    10:02 PM         10:15     13914\n",
       "7    Stanyan  Outbound  Ocean Beach    10:16 PM         24:23     13914\n",
       "8    Stanyan  Outbound  Ocean Beach    10:30 PM         38:29     13914\n",
       "9    Stanyan  Outbound  Ocean Beach    12:34 AM        162:46     13914\n",
       "15    Folsom  Outbound  Ocean Beach    09:57 PM         05:13     14510\n",
       "16    Folsom  Outbound  Ocean Beach    10:11 PM         19:19     14510\n",
       "17    Folsom  Outbound  Ocean Beach    10:31 PM         39:19     14510"
      ]
     },
     "execution_count": 59,
     "metadata": {},
     "output_type": "execute_result"
    }
   ],
   "source": [
    "transitArrivals[transitArrivals['destination'].str.contains('Ocean Beach')]"
   ]
  },
  {
   "cell_type": "code",
   "execution_count": null,
   "metadata": {},
   "outputs": [],
   "source": []
  }
 ],
 "metadata": {
  "kernelspec": {
   "display_name": "base",
   "language": "python",
   "name": "python3"
  },
  "language_info": {
   "codemirror_mode": {
    "name": "ipython",
    "version": 3
   },
   "file_extension": ".py",
   "mimetype": "text/x-python",
   "name": "python",
   "nbconvert_exporter": "python",
   "pygments_lexer": "ipython3",
   "version": "3.11.3"
  },
  "orig_nbformat": 4
 },
 "nbformat": 4,
 "nbformat_minor": 2
}
